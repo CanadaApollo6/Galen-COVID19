{
 "cells": [
  {
   "cell_type": "code",
   "execution_count": null,
   "metadata": {},
   "outputs": [],
   "source": [
    "import pandas as pd\n",
    "import tensorflow as tf\n",
    "import tensorflowjs as tfjs\n",
    "from sklearn.model_selection import train_test_split\n",
    "from sklearn.metrics import balanced_accuracy_score"
   ]
  },
  {
   "cell_type": "code",
   "execution_count": null,
   "metadata": {},
   "outputs": [],
   "source": [
    "def get_compiled_model():\n",
    "    model = tf.keras.Sequential([\n",
    "        tf.keras.layers.LayerNormalization(input_shape=(1, 30)),\n",
    "        tf.keras.layers.Conv1D(30, 1, activation='tanh', input_shape=(1, 30)),\n",
    "        tf.keras.layers.MaxPooling1D(pool_size=1),\n",
    "        tf.keras.layers.LSTM(30, activation='tanh'),\n",
    "        tf.keras.layers.Dense(30, activation='tanh'),\n",
    "        tf.keras.layers.Dense(1, activation='sigmoid')\n",
    "      ])\n",
    "\n",
    "    model.compile(optimizer='adam',\n",
    "                  loss='binary_crossentropy',\n",
    "                  metrics=['accuracy'])\n",
    "    return model\n",
    "\n",
    "def get_gene_data(gene_csv_df, gene):\n",
    "    \"\"\"\n",
    "    Given the gene csv dataframe and the gene as a string (i.e. \"n_gene\", \"s_gene\", etc.), this function returns the training and test X and y sets.\n",
    "    NOTE: This function does not work with Rp-Cy5 due to Rp-Cy5 only having AMPLIFIED or REPEAT as result classes.\n",
    "    \"\"\"\n",
    "    undesirables = \"['neg', 'PC', '', 0, 'unknown']\"\n",
    "    binary = \"['AMPLIFIED', 'NON-AMPLIFIED']\"\n",
    "    X = gene_csv_df.query(f'sample_id != {undesirables}').query(f'n_gene_result == {binary}') \\\n",
    "        .drop([\"sample_id\", \"plate_id\", \"n_gene_result\", \"well_position\", \"well\", f\"{gene}_delta_cycle1\", \n",
    "               f\"{gene}_delta_cycle2\", f\"{gene}_delta_cycle3\", f\"{gene}_delta_cycle4\", f\"{gene}_delta_cycle5\", \n",
    "               f\"{gene}_delta_cycle6\", f\"{gene}_delta_cycle7\", f\"{gene}_delta_cycle8\", f\"{gene}_delta_cycle9\", \n",
    "               f\"{gene}_delta_cycle10\"], axis=1)\n",
    "    y = gene_csv_df.query(f'sample_id != {undesirables}').query(f'{gene}_result == {binary}')[f'{gene}_result'] \\\n",
    "        .replace({\"AMPLIFIED\": 1, \"NON-AMPLIFIED\": 0})\n",
    "\n",
    "    X_train, X_test, y_train, y_test = train_test_split(X, y, test_size=0.5, random_state=42)\n",
    "    \n",
    "    return X_train, X_test, y_train, y_test"
   ]
  },
  {
   "cell_type": "code",
   "execution_count": null,
   "metadata": {},
   "outputs": [],
   "source": [
    "# get n_gene data\n",
    "n_gene = pd.read_csv(\"n_gene.csv\")\n",
    "n_gene = n_gene.dropna()\n",
    "\n",
    "X_train, X_test, y_train, y_test = get_gene_data(n_gene, \"n_gene\")"
   ]
  },
  {
   "cell_type": "code",
   "execution_count": null,
   "metadata": {},
   "outputs": [],
   "source": [
    "# reshape n_gene data\n",
    "X_train_shape = X_train.values.reshape(87099, 1, 30)\n",
    "y_train_shape = y_train.values.reshape(87099, 1)\n",
    "X_test_shape = X_test.values.reshape(87099, 1, 30)\n",
    "y_test_shape= y_test.values.reshape(87099, 1)"
   ]
  },
  {
   "cell_type": "code",
   "execution_count": null,
   "metadata": {},
   "outputs": [],
   "source": [
    "# create n_gene model\n",
    "class_weights = {0: 1, 1: 25}\n",
    "n_gene_model = get_compiled_model()\n",
    "n_gene_model.fit(X_train_shape, y_train_shape, epochs=200, shuffle=True, class_weight=class_weights, batch_size=1000)"
   ]
  },
  {
   "cell_type": "code",
   "execution_count": null,
   "metadata": {},
   "outputs": [],
   "source": [
    "# test n_gene model\n",
    "y_preds = n_gene_model.predict_classes(X_test_shape)\n",
    "print(f\"Balanced Accuracy Score for N Gene model: {balanced_accuracy_score(y_test_shape, y_preds)}\")"
   ]
  },
  {
   "cell_type": "code",
   "execution_count": null,
   "metadata": {},
   "outputs": [],
   "source": [
    "# save n_gene model\n",
    "n_gene_model.save(\"n_gene_model.h5\")\n",
    "tfjs.converters.save_keras_model(n_gene_model, \"[path to save model]\")"
   ]
  },
  {
   "cell_type": "code",
   "execution_count": null,
   "metadata": {},
   "outputs": [],
   "source": [
    "# get s_gene data\n",
    "s_gene = pd.read_csv(\"s_gene.csv\")\n",
    "s_gene = s_gene.dropna()\n",
    "\n",
    "X_train, X_test, y_train, y_test = get_gene_data(s_gene, \"s_gene\")"
   ]
  },
  {
   "cell_type": "code",
   "execution_count": null,
   "metadata": {},
   "outputs": [],
   "source": [
    "# reshape s_gene data\n",
    "X_train_shape = X_train.values.reshape(87224, 1, 30)\n",
    "y_train_shape = y_train.values.reshape(87224, 1)\n",
    "X_test_shape = X_test.values.reshape(87224, 1, 30)\n",
    "y_test_shape= y_test.values.reshape(87224, 1)"
   ]
  },
  {
   "cell_type": "code",
   "execution_count": null,
   "metadata": {},
   "outputs": [],
   "source": [
    "# Create s_gene model\n",
    "class_weights = {0: 1, 1: 26}\n",
    "s_gene_model = get_compiled_model()\n",
    "s_gene_model.fit(X_train_shape, y_train_shape, epochs=200, shuffle=True, class_weight=class_weights, batch_size=1000)"
   ]
  },
  {
   "cell_type": "code",
   "execution_count": null,
   "metadata": {},
   "outputs": [],
   "source": [
    "# test s_gene model\n",
    "y_preds = s_gene_model.predict_classes(X_test_shape)\n",
    "print(f\"Balanced Accuracy Score for S Gene model: {balanced_accuracy_score(y_test_shape, y_preds)}\")"
   ]
  },
  {
   "cell_type": "code",
   "execution_count": null,
   "metadata": {},
   "outputs": [],
   "source": [
    "# save s_gene model\n",
    "s_gene_model.save(\"s_gene_model.h5\")\n",
    "tfjs.converters.save_keras_model(s_gene_model, \"[path to save model]\")"
   ]
  },
  {
   "cell_type": "code",
   "execution_count": null,
   "metadata": {},
   "outputs": [],
   "source": [
    "# Get orf1ab data\n",
    "orf1ab = pd.read_csv(\"orf1ab.csv\")\n",
    "orf1ab = orf1ab.dropna()\n",
    "\n",
    "X_train, X_test, y_train, y_test = get_gene_data(orf1ab, \"orf1ab\")"
   ]
  },
  {
   "cell_type": "code",
   "execution_count": null,
   "metadata": {},
   "outputs": [],
   "source": [
    "# reshape orf1ab data\n",
    "X_train_shape = X_train.values.reshape(87123, 1, 30)\n",
    "y_train_shape = y_train.values.reshape(87123, 1)\n",
    "X_test_shape = X_test.values.reshape(87123, 1, 30)\n",
    "y_test_shape= y_test.values.reshape(87123, 1)"
   ]
  },
  {
   "cell_type": "code",
   "execution_count": null,
   "metadata": {},
   "outputs": [],
   "source": [
    "# Create orf1ab model\n",
    "class_weights = {0: 1, 1: 25}\n",
    "orf1ab_model = get_compiled_model()\n",
    "orf1ab_model.fit(X_train_shape, y_train_shape, epochs=200, shuffle=True, class_weight=class_weights, batch_size=1000)"
   ]
  },
  {
   "cell_type": "code",
   "execution_count": null,
   "metadata": {},
   "outputs": [],
   "source": [
    "# test orf1ab model\n",
    "y_preds = orf1ab_model.predict_classes(X_test_shape)\n",
    "print(f\"Balanced Accuracy Score for ORF1ab model: {balanced_accuracy_score(y_test_shape, y_preds)}\")"
   ]
  },
  {
   "cell_type": "code",
   "execution_count": null,
   "metadata": {},
   "outputs": [],
   "source": [
    "# save orf1ab model\n",
    "orf1ab_model.save(\"orf1ab_model.h5\")\n",
    "tfjs.converters.save_keras_model(orf1ab_model, \"[path to save model]\")"
   ]
  },
  {
   "cell_type": "code",
   "execution_count": null,
   "metadata": {},
   "outputs": [],
   "source": [
    "# Get ms2 data\n",
    "ms2 = pd.read_csv(\"ms2.csv\")\n",
    "ms2 = ms2.dropna()\n",
    "\n",
    "X_train, X_test, y_train, y_test = get_gene_data(ms2, \"ms2\")"
   ]
  },
  {
   "cell_type": "code",
   "execution_count": null,
   "metadata": {},
   "outputs": [],
   "source": [
    "# reshape ms2 data\n",
    "X_train_shape = X_train.values.reshape(87176, 1, 30)\n",
    "y_train_shape = y_train.values.reshape(87176, 1)\n",
    "X_test_shape = X_test.values.reshape(87177, 1, 30)\n",
    "y_test_shape= y_test.values.reshape(87177, 1)"
   ]
  },
  {
   "cell_type": "code",
   "execution_count": null,
   "metadata": {},
   "outputs": [],
   "source": [
    "# Create ms2 model\n",
    "class_weights = {0: 7, 1: 1}\n",
    "ms2_model = get_compiled_model()\n",
    "ms2_model.fit(X_train_shape, y_train_shape, epochs=1000, shuffle=True, class_weight=class_weights, batch_size=1000)"
   ]
  },
  {
   "cell_type": "code",
   "execution_count": null,
   "metadata": {},
   "outputs": [],
   "source": [
    "# test ms2 model\n",
    "y_preds = ms2_model.predict_classes(X_test_shape)\n",
    "print(f\"Balanced Accuracy Score for MS2 model: {balanced_accuracy_score(y_test_shape, y_preds)}\")"
   ]
  },
  {
   "cell_type": "code",
   "execution_count": null,
   "metadata": {},
   "outputs": [],
   "source": [
    "# save ms2 model\n",
    "ms2_model.save(\"ms2_model.h5\")"
   ]
  },
  {
   "cell_type": "code",
   "execution_count": null,
   "metadata": {},
   "outputs": [],
   "source": [
    "# Get rp_cy5 data\n",
    "rp_cy5 = pd.read_csv(\"rp_cy5.csv\")\n",
    "rp_cy5 = rp_cy5.dropna()\n",
    "undesirables = \"['neg', 'PC', '', 0, 'unknown']\"\n",
    "binary = \"['AMPLIFIED', 'REPEAT']\"\n",
    "X = rp_cy5.query(f'sample_id != {undesirables}').query(f'rp_cy5_result == {binary}') \\\n",
    "    .drop([\"sample_id\", \"plate_id\", \"rp_cy5_result\", \"well_position\", \"well\", \"rp_cy5_delta_cycle1\", \"rp_cy5_delta_cycle2\", \n",
    "           \"rp_cy5_delta_cycle3\", \"rp_cy5_delta_cycle4\", \"rp_cy5_delta_cycle5\", \"rp_cy5_delta_cycle6\", \n",
    "           \"rp_cy5_delta_cycle7\", \"rp_cy5_delta_cycle8\", \"rp_cy5_delta_cycle9\", \"rp_cy5_delta_cycle10\"], axis=1)\n",
    "y = rp_cy5.query(f'sample_id != {undesirables}').query(f'rp_cy5_result == {binary}')[f'rp_cy5_result'] \\\n",
    "    .replace({\"AMPLIFIED\": 1, \"REPEAT\": 0})\n",
    "\n",
    "X_train, X_test, y_train, y_test = train_test_split(X, y, test_size=0.5, random_state=42)"
   ]
  },
  {
   "cell_type": "code",
   "execution_count": null,
   "metadata": {},
   "outputs": [],
   "source": [
    "# Reshape rp_cy5 data\n",
    "X_train_shape = X_train.values.reshape(86768, 1, 30)\n",
    "y_train_shape = y_train.values.reshape(86768, 1)\n",
    "X_test_shape = X_test.values.reshape(86768, 1, 30)\n",
    "y_test_shape = y_test.values.reshape(86768, 1)"
   ]
  },
  {
   "cell_type": "code",
   "execution_count": null,
   "metadata": {},
   "outputs": [],
   "source": [
    "# Create rp_cy5 model\n",
    "class_weights = {0: 252, 1: 1}\n",
    "rp_cy5_model = get_compiled_model()\n",
    "rp_cy5_model.fit(X_train_shape, y_train_shape, epochs=100, shuffle=True, class_weight=class_weights, batch_size=1000)"
   ]
  },
  {
   "cell_type": "code",
   "execution_count": null,
   "metadata": {},
   "outputs": [],
   "source": [
    "# test rp_cy5 model\n",
    "y_preds = rp_cy5_model.predict_classes(X_test_shape)\n",
    "print(f\"Balanced Accuracy Score for Rp-Cy5 model: {balanced_accuracy_score(y_test_shape, y_preds)}\")"
   ]
  },
  {
   "cell_type": "code",
   "execution_count": null,
   "metadata": {},
   "outputs": [],
   "source": [
    "# Save rp_cy5 model\n",
    "rp_cy5_model.save(\"rp_cy5_model.h5\")\n",
    "tfjs.converters.save_keras_model(rp_cy5_model, \"[path to save model]\")"
   ]
  }
 ],
 "metadata": {
  "kernelspec": {
   "display_name": "Python 3",
   "language": "python",
   "name": "python3"
  },
  "language_info": {
   "codemirror_mode": {
    "name": "ipython",
    "version": 3
   },
   "file_extension": ".py",
   "mimetype": "text/x-python",
   "name": "python",
   "nbconvert_exporter": "python",
   "pygments_lexer": "ipython3",
   "version": "3.7.9"
  }
 },
 "nbformat": 4,
 "nbformat_minor": 4
}
